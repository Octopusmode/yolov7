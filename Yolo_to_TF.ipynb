{
  "nbformat": 4,
  "nbformat_minor": 0,
  "metadata": {
    "colab": {
      "provenance": [],
      "authorship_tag": "ABX9TyMWDnXOiLTx5bhqTUqWdqM5",
      "include_colab_link": true
    },
    "kernelspec": {
      "name": "python3",
      "display_name": "Python 3"
    },
    "language_info": {
      "name": "python"
    },
    "accelerator": "GPU"
  },
  "cells": [
    {
      "cell_type": "markdown",
      "metadata": {
        "id": "view-in-github",
        "colab_type": "text"
      },
      "source": [
        "<a href=\"https://colab.research.google.com/github/Octopusmode/yolov7/blob/main/Yolo_to_TF.ipynb\" target=\"_parent\"><img src=\"https://colab.research.google.com/assets/colab-badge.svg\" alt=\"Open In Colab\"/></a>"
      ]
    },
    {
      "cell_type": "code",
      "execution_count": 1,
      "metadata": {
        "colab": {
          "base_uri": "https://localhost:8080/"
        },
        "id": "qYNh_8fbgtWl",
        "outputId": "8d0e649e-fa3a-4887-9326-532e39e84ca9"
      },
      "outputs": [
        {
          "output_type": "stream",
          "name": "stdout",
          "text": [
            "Setup complete. Using torch 1.12.1+cu113 (Tesla T4)\n"
          ]
        }
      ],
      "source": [
        "# Setup\n",
        "!git clone https://github.com/ultralytics/yolov5  # clone repo\n",
        "%cd yolov5\n",
        "%pip install -qr requirements.txt  # install dependencies\n",
        "\n",
        "import torch\n",
        "from IPython.display import Image, clear_output  # to display images\n",
        "\n",
        "clear_output()\n",
        "print(f\"Setup complete. Using torch {torch.__version__} ({torch.cuda.get_device_properties(0).name if torch.cuda.is_available() else 'CPU'})\")\n"
      ]
    },
    {
      "cell_type": "code",
      "source": [
        "!unzip /content/yolov5/data/yolo5_fire_and_smoke_detection.zip"
      ],
      "metadata": {
        "colab": {
          "base_uri": "https://localhost:8080/"
        },
        "id": "YMnwTTS5g2F2",
        "outputId": "d054b00b-4197-4a53-cbdb-c62c193e2a1f"
      },
      "execution_count": 2,
      "outputs": [
        {
          "output_type": "stream",
          "name": "stdout",
          "text": [
            "Archive:  /content/yolov5/data/yolo5_fire_and_smoke_detection.zip\n",
            "  inflating: best.pt                 \n",
            "  inflating: data.yaml               \n",
            "  inflating: hyp.yaml                \n",
            "  inflating: opt.yaml                \n",
            "  inflating: results.csv             \n"
          ]
        }
      ]
    },
    {
      "cell_type": "code",
      "source": [
        "!pip install roboflow\n",
        "\n",
        "from roboflow import Roboflow\n",
        "rf = Roboflow(api_key=\"rPo0nbwrW1VhZaxrnIPr\")\n",
        "project = rf.workspace(\"buitems-ycaeh\").project(\"fire-smoke-datasets\")\n",
        "dataset = project.version(1).download(\"yolov5\")"
      ],
      "metadata": {
        "id": "f4y2qjcHiIQ1"
      },
      "execution_count": null,
      "outputs": []
    },
    {
      "cell_type": "code",
      "source": [
        "!python models/tf.py --weights best.pt --cfg yolov5s.yaml"
      ],
      "metadata": {
        "colab": {
          "base_uri": "https://localhost:8080/"
        },
        "id": "6LoNUHrHjMRr",
        "outputId": "fa8b7c65-0aff-418c-a23e-03b3438c9418"
      },
      "execution_count": 5,
      "outputs": [
        {
          "output_type": "stream",
          "name": "stdout",
          "text": [
            "usage: tf.py [-h] [--weights WEIGHTS] [--imgsz IMGSZ [IMGSZ ...]]\n",
            "             [--batch-size BATCH_SIZE] [--dynamic]\n",
            "tf.py: error: unrecognized arguments: --cfg yolo5s.yaml\n"
          ]
        }
      ]
    }
  ]
}